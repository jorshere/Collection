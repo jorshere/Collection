{
 "cells": [
  {
   "cell_type": "code",
   "execution_count": 8,
   "metadata": {},
   "outputs": [],
   "source": [
    "from bokeh.plotting import figure\n",
    "from bokeh.io import output_file,show\n",
    "import pandas\n",
    "\n",
    "df = pandas.read_csv(\"bachelors.csv\")\n",
    "\n",
    "\n",
    "x= df[\"Year\"]\n",
    "y = df[\"Engineering\"]\n",
    "\n",
    "output_file(\"proj_plot.html\")\n",
    "\n",
    "f= figure()\n",
    "\n",
    "f.line(x,y)\n",
    "show(f)"
   ]
  },
  {
   "cell_type": "code",
   "execution_count": null,
   "metadata": {},
   "outputs": [],
   "source": []
  },
  {
   "cell_type": "code",
   "execution_count": 37,
   "metadata": {},
   "outputs": [],
   "source": [
    "#import pandas\n",
    "from bokeh.plotting import figure\n",
    "from bokeh.io import output_file, show\n",
    " \n",
    "p=figure(plot_width=500,plot_height=400)\n",
    " \n",
    "p.title.text=\"Cool Data\"\n",
    "p.title.text_color=\"Gray\"\n",
    "p.title.text_font=\"times\"\n",
    "p.title.text_font_style=\"bold\"\n",
    "p.xaxis.minor_tick_line_color=None\n",
    "p.yaxis.minor_tick_line_color=None\n",
    "p.xaxis.axis_label=\"Date\"\n",
    "p.yaxis.axis_label=\"Intensity\"    \n",
    " \n",
    "p.line([1,2,3],[4,5,6])\n",
    "output_file(\"graph.html\")\n",
    "show(p)"
   ]
  },
  {
   "cell_type": "code",
   "execution_count": null,
   "metadata": {},
   "outputs": [],
   "source": []
  },
  {
   "cell_type": "code",
   "execution_count": null,
   "metadata": {},
   "outputs": [],
   "source": []
  },
  {
   "cell_type": "code",
   "execution_count": 31,
   "metadata": {},
   "outputs": [],
   "source": [
    "# import pandas\n",
    "# from bokeh.plotting import figure, output_file, show\n",
    "\n",
    "\n",
    "# df= pandas.read_excel(\"temp_press.xlsx\")\n",
    "\n",
    "# df[\"Temperature\"]=df[\"Temperature\"]/10\n",
    "# df[\"Pressure\"]=df[\"Pressure\"]/10\n",
    " \n",
    "\n",
    "# output_file(\"temp_p.html\")\n",
    "\n",
    "# p = figure(plot_width=700,plot_height=400)\n",
    "\n",
    "\n",
    "# p=figure(plot_width=500,plot_height=400,tools='pan')\n",
    " \n",
    "# p.title.text=\"Temperature and Air Pressure\"\n",
    "# p.title.text_color=\"Gray\"\n",
    "# p.title.text_font=\"arial\"\n",
    "# p.title.text_font_style=\"bold\"\n",
    "# p.xaxis.minor_tick_line_color=None\n",
    "# p.yaxis.minor_tick_line_color=None\n",
    "# p.xaxis.axis_label=\"Temperature (°C)\"\n",
    "# p.yaxis.axis_label=\"Pressure (hPa)\"    \n",
    " \n",
    "# p.circle(df[\"Temperature\"],df[\"Pressure\"],size=0.5)\n",
    "# show(p)\n"
   ]
  },
  {
   "cell_type": "code",
   "execution_count": 11,
   "metadata": {},
   "outputs": [],
   "source": [
    "# from bokeh.plotting import figure, output_file, show\n",
    "# p = figure(plot_width=700, plot_height=600, tools = 'pan, reset')\n",
    "# p.title.text = \"Earthquakes\"\n",
    "# p.title.text_color = \"Orange\"\n",
    "# p.title.text_font = \"times\"\n",
    "# p.title.text_font_style = \"italic\"\n",
    "# p.yaxis.minor_tick_line_color = \"Yellow\"\n",
    "# p.xaxis.axis_label = \"Times\"\n",
    "# p.yaxis.axis_label = \"Value\"\n",
    "# # p.line([1,2,3,4,5], [5,6,5,5,3],color=\"red\", alpha=0.5)\n",
    "# p.circle([1,2,3,4,5], [5,6,5,5,3], size = [i*2 for i in [8,12,44,15,20]], color=\"red\", alpha=0.5)  #to increase size of circle\n",
    "# output_file(\"Scatter_plotting.html\")\n",
    "# show(p)"
   ]
  },
  {
   "cell_type": "code",
   "execution_count": null,
   "metadata": {},
   "outputs": [],
   "source": []
  },
  {
   "cell_type": "code",
   "execution_count": 50,
   "metadata": {},
   "outputs": [],
   "source": [
    "from bokeh.plotting import figure,output_file, show\n",
    "import pandas\n",
    "\n",
    "df = pandas.read_csv(\"adbe.csv\",parse_dates=[\"Date\"])        # inputing date time in plots;\n",
    "\n",
    "\n",
    "f=figure(plot_width=500,plot_height=250,x_axis_type=\"datetime\",sizing_mode = \"stretch_both\")\n",
    "\n",
    "# sizingModde: to set size of plot;\n",
    "\n",
    "output_file(\"thanos.html\")\n",
    "\n",
    "f.line(df[\"Date\"],df[\"Close\"],color= \"red\")#, alpha=0.5)      # ALPHA: TO SET TRANSPARASY\n",
    "\n",
    "\n",
    "show(f)"
   ]
  },
  {
   "cell_type": "code",
   "execution_count": null,
   "metadata": {},
   "outputs": [],
   "source": []
  },
  {
   "cell_type": "code",
   "execution_count": 45,
   "metadata": {},
   "outputs": [
    {
     "ename": "NameError",
     "evalue": "name 'responsive' is not defined",
     "output_type": "error",
     "traceback": [
      "\u001b[1;31m---------------------------------------------------------------------------\u001b[0m",
      "\u001b[1;31mNameError\u001b[0m                                 Traceback (most recent call last)",
      "\u001b[1;32m<ipython-input-45-8dbaea84fcbc>\u001b[0m in \u001b[0;36m<module>\u001b[1;34m\u001b[0m\n\u001b[1;32m----> 1\u001b[1;33m \u001b[0mdir\u001b[0m\u001b[1;33m(\u001b[0m\u001b[0mresponsive\u001b[0m\u001b[1;33m)\u001b[0m\u001b[1;33m\u001b[0m\u001b[1;33m\u001b[0m\u001b[0m\n\u001b[0m",
      "\u001b[1;31mNameError\u001b[0m: name 'responsive' is not defined"
     ]
    }
   ],
   "source": []
  },
  {
   "cell_type": "code",
   "execution_count": null,
   "metadata": {},
   "outputs": [],
   "source": []
  },
  {
   "cell_type": "code",
   "execution_count": null,
   "metadata": {},
   "outputs": [],
   "source": []
  },
  {
   "cell_type": "code",
   "execution_count": null,
   "metadata": {},
   "outputs": [],
   "source": []
  },
  {
   "cell_type": "code",
   "execution_count": null,
   "metadata": {},
   "outputs": [],
   "source": []
  },
  {
   "cell_type": "code",
   "execution_count": null,
   "metadata": {},
   "outputs": [],
   "source": []
  },
  {
   "cell_type": "code",
   "execution_count": null,
   "metadata": {},
   "outputs": [],
   "source": []
  },
  {
   "cell_type": "code",
   "execution_count": null,
   "metadata": {},
   "outputs": [],
   "source": []
  },
  {
   "cell_type": "code",
   "execution_count": null,
   "metadata": {},
   "outputs": [],
   "source": []
  }
 ],
 "metadata": {
  "kernelspec": {
   "display_name": "Python 3",
   "language": "python",
   "name": "python3"
  },
  "language_info": {
   "codemirror_mode": {
    "name": "ipython",
    "version": 3
   },
   "file_extension": ".py",
   "mimetype": "text/x-python",
   "name": "python",
   "nbconvert_exporter": "python",
   "pygments_lexer": "ipython3",
   "version": "3.8.1"
  }
 },
 "nbformat": 4,
 "nbformat_minor": 4
}
